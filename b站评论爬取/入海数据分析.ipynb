{
 "cells": [
  {
   "cell_type": "markdown",
   "metadata": {},
   "source": [
    "# 入海数据分析"
   ]
  },
  {
   "cell_type": "markdown",
   "metadata": {},
   "source": [
    "## 数据读入与数据处理"
   ]
  },
  {
   "cell_type": "code",
   "execution_count": 1,
   "metadata": {},
   "outputs": [],
   "source": [
    "# 导入包\n",
    "import numpy as np\n",
    "import pandas as pd\n",
    "import matplotlib.pyplot as plt\n",
    "import time  \n",
    "import re \n",
    "import requests\n",
    "import jieba\n",
    "import jieba.analyse\n",
    "from snownlp import SnowNLP\n",
    "from collections import Counter\n",
    "\n",
    "from pyecharts.charts import Bar, Pie, Line, WordCloud, Page\n",
    "from pyecharts import options as opts \n",
    "from pyecharts.globals import SymbolType"
   ]
  },
  {
   "cell_type": "code",
   "execution_count": 2,
   "metadata": {},
   "outputs": [
    {
     "data": {
      "text/html": [
       "<div>\n",
       "<style scoped>\n",
       "    .dataframe tbody tr th:only-of-type {\n",
       "        vertical-align: middle;\n",
       "    }\n",
       "\n",
       "    .dataframe tbody tr th {\n",
       "        vertical-align: top;\n",
       "    }\n",
       "\n",
       "    .dataframe thead th {\n",
       "        text-align: right;\n",
       "    }\n",
       "</style>\n",
       "<table border=\"1\" class=\"dataframe\">\n",
       "  <thead>\n",
       "    <tr style=\"text-align: right;\">\n",
       "      <th></th>\n",
       "      <th>user_name</th>\n",
       "      <th>sex</th>\n",
       "      <th>sign</th>\n",
       "      <th>current_level</th>\n",
       "      <th>content</th>\n",
       "      <th>device</th>\n",
       "      <th>content_time</th>\n",
       "      <th>reply_count</th>\n",
       "    </tr>\n",
       "  </thead>\n",
       "  <tbody>\n",
       "    <tr>\n",
       "      <th>0</th>\n",
       "      <td>巨星不易工作室</td>\n",
       "      <td>保密</td>\n",
       "      <td>毛不易个人厂牌-巨星不易工作室官方账号</td>\n",
       "      <td>2</td>\n",
       "      <td>祝大家毕业快乐。</td>\n",
       "      <td>phone</td>\n",
       "      <td>1589947664</td>\n",
       "      <td>1928</td>\n",
       "    </tr>\n",
       "    <tr>\n",
       "      <th>1</th>\n",
       "      <td>谜一样的剪辑师</td>\n",
       "      <td>男</td>\n",
       "      <td>职业剪辑师，代表作：《啥是佩奇》《巴依尔的春节》</td>\n",
       "      <td>5</td>\n",
       "      <td>该片剪辑路过~这就是我最近在上海剪的MV短片《入海》，终于上线了哈哈，希望大家喜欢。近几天考...</td>\n",
       "      <td>phone</td>\n",
       "      <td>1589938042</td>\n",
       "      <td>395</td>\n",
       "    </tr>\n",
       "    <tr>\n",
       "      <th>2</th>\n",
       "      <td>巨星不易工作室</td>\n",
       "      <td>保密</td>\n",
       "      <td>毛不易个人厂牌-巨星不易工作室官方账号</td>\n",
       "      <td>2</td>\n",
       "      <td>快乐的时光总是短暂，我们下次再见。</td>\n",
       "      <td>phone</td>\n",
       "      <td>1589950537</td>\n",
       "      <td>426</td>\n",
       "    </tr>\n",
       "    <tr>\n",
       "      <th>3</th>\n",
       "      <td>同济大学</td>\n",
       "      <td>保密</td>\n",
       "      <td>同舟共济</td>\n",
       "      <td>4</td>\n",
       "      <td>毕业快乐，祝大家前程似锦，母校永远在你身后[爱心][爱心]</td>\n",
       "      <td>phone</td>\n",
       "      <td>1589942187</td>\n",
       "      <td>245</td>\n",
       "    </tr>\n",
       "    <tr>\n",
       "      <th>4</th>\n",
       "      <td>华东师范大学</td>\n",
       "      <td>保密</td>\n",
       "      <td>华东师范大学，魔都985双一流A类高校。人称“爱在华师大”，又名“华东吃饭大学”、“东中国正...</td>\n",
       "      <td>5</td>\n",
       "      <td>祝所有毕业生前程似锦，万事胜意❤</td>\n",
       "      <td>NaN</td>\n",
       "      <td>1589938758</td>\n",
       "      <td>244</td>\n",
       "    </tr>\n",
       "  </tbody>\n",
       "</table>\n",
       "</div>"
      ],
      "text/plain": [
       "  user_name sex                                               sign  \\\n",
       "0   巨星不易工作室  保密                                毛不易个人厂牌-巨星不易工作室官方账号   \n",
       "1   谜一样的剪辑师   男                           职业剪辑师，代表作：《啥是佩奇》《巴依尔的春节》   \n",
       "2   巨星不易工作室  保密                                毛不易个人厂牌-巨星不易工作室官方账号   \n",
       "3      同济大学  保密                                               同舟共济   \n",
       "4    华东师范大学  保密  华东师范大学，魔都985双一流A类高校。人称“爱在华师大”，又名“华东吃饭大学”、“东中国正...   \n",
       "\n",
       "   current_level                                            content device  \\\n",
       "0              2                                           祝大家毕业快乐。  phone   \n",
       "1              5  该片剪辑路过~这就是我最近在上海剪的MV短片《入海》，终于上线了哈哈，希望大家喜欢。近几天考...  phone   \n",
       "2              2                                  快乐的时光总是短暂，我们下次再见。  phone   \n",
       "3              4                      毕业快乐，祝大家前程似锦，母校永远在你身后[爱心][爱心]  phone   \n",
       "4              5                                   祝所有毕业生前程似锦，万事胜意❤    NaN   \n",
       "\n",
       "   content_time  reply_count  \n",
       "0    1589947664         1928  \n",
       "1    1589938042          395  \n",
       "2    1589950537          426  \n",
       "3    1589942187          245  \n",
       "4    1589938758          244  "
      ]
     },
     "execution_count": 2,
     "metadata": {},
     "output_type": "execute_result"
    }
   ],
   "source": [
    "# 读入数据\n",
    "df = pd.read_excel('../data/B站评论数据-入海5.23.xlsx')\n",
    "df.head() "
   ]
  },
  {
   "cell_type": "code",
   "execution_count": 3,
   "metadata": {},
   "outputs": [
    {
     "data": {
      "text/plain": [
       "(19099, 8)"
      ]
     },
     "execution_count": 3,
     "metadata": {},
     "output_type": "execute_result"
    }
   ],
   "source": [
    "df.shape"
   ]
  },
  {
   "cell_type": "code",
   "execution_count": 4,
   "metadata": {},
   "outputs": [
    {
     "data": {
      "text/plain": [
       "(19099, 8)"
      ]
     },
     "execution_count": 4,
     "metadata": {},
     "output_type": "execute_result"
    }
   ],
   "source": [
    "# 重复值\n",
    "df = df.drop_duplicates()\n",
    "df.shape"
   ]
  },
  {
   "cell_type": "code",
   "execution_count": 5,
   "metadata": {},
   "outputs": [],
   "source": [
    "# 转换类型\n",
    "df['content'] = [str(i) for i in df.content] "
   ]
  },
  {
   "cell_type": "code",
   "execution_count": 6,
   "metadata": {},
   "outputs": [
    {
     "name": "stdout",
     "output_type": "stream",
     "text": [
      "<class 'pandas.core.frame.DataFrame'>\n",
      "Int64Index: 19099 entries, 0 to 19098\n",
      "Data columns (total 8 columns):\n",
      "user_name        19099 non-null object\n",
      "sex              19099 non-null object\n",
      "sign             9896 non-null object\n",
      "current_level    19099 non-null int64\n",
      "content          19099 non-null object\n",
      "device           4159 non-null object\n",
      "content_time     19099 non-null int64\n",
      "reply_count      19099 non-null int64\n",
      "dtypes: int64(3), object(5)\n",
      "memory usage: 1.3+ MB\n"
     ]
    }
   ],
   "source": [
    "df.info() "
   ]
  },
  {
   "cell_type": "code",
   "execution_count": 7,
   "metadata": {},
   "outputs": [
    {
     "data": {
      "text/html": [
       "<div>\n",
       "<style scoped>\n",
       "    .dataframe tbody tr th:only-of-type {\n",
       "        vertical-align: middle;\n",
       "    }\n",
       "\n",
       "    .dataframe tbody tr th {\n",
       "        vertical-align: top;\n",
       "    }\n",
       "\n",
       "    .dataframe thead th {\n",
       "        text-align: right;\n",
       "    }\n",
       "</style>\n",
       "<table border=\"1\" class=\"dataframe\">\n",
       "  <thead>\n",
       "    <tr style=\"text-align: right;\">\n",
       "      <th></th>\n",
       "      <th>user_name</th>\n",
       "      <th>sex</th>\n",
       "      <th>sign</th>\n",
       "      <th>current_level</th>\n",
       "      <th>content</th>\n",
       "      <th>device</th>\n",
       "      <th>content_time</th>\n",
       "      <th>reply_count</th>\n",
       "    </tr>\n",
       "  </thead>\n",
       "  <tbody>\n",
       "    <tr>\n",
       "      <th>0</th>\n",
       "      <td>巨星不易工作室</td>\n",
       "      <td>保密</td>\n",
       "      <td>毛不易个人厂牌-巨星不易工作室官方账号</td>\n",
       "      <td>2</td>\n",
       "      <td>祝大家毕业快乐。</td>\n",
       "      <td>phone</td>\n",
       "      <td>2020-05-20 04:07:44</td>\n",
       "      <td>1928</td>\n",
       "    </tr>\n",
       "    <tr>\n",
       "      <th>1</th>\n",
       "      <td>谜一样的剪辑师</td>\n",
       "      <td>男</td>\n",
       "      <td>职业剪辑师，代表作：《啥是佩奇》《巴依尔的春节》</td>\n",
       "      <td>5</td>\n",
       "      <td>该片剪辑路过~这就是我最近在上海剪的MV短片《入海》，终于上线了哈哈，希望大家喜欢。近几天考...</td>\n",
       "      <td>phone</td>\n",
       "      <td>2020-05-20 01:27:22</td>\n",
       "      <td>395</td>\n",
       "    </tr>\n",
       "    <tr>\n",
       "      <th>2</th>\n",
       "      <td>巨星不易工作室</td>\n",
       "      <td>保密</td>\n",
       "      <td>毛不易个人厂牌-巨星不易工作室官方账号</td>\n",
       "      <td>2</td>\n",
       "      <td>快乐的时光总是短暂，我们下次再见。</td>\n",
       "      <td>phone</td>\n",
       "      <td>2020-05-20 04:55:37</td>\n",
       "      <td>426</td>\n",
       "    </tr>\n",
       "    <tr>\n",
       "      <th>3</th>\n",
       "      <td>同济大学</td>\n",
       "      <td>保密</td>\n",
       "      <td>同舟共济</td>\n",
       "      <td>4</td>\n",
       "      <td>毕业快乐，祝大家前程似锦，母校永远在你身后[爱心][爱心]</td>\n",
       "      <td>phone</td>\n",
       "      <td>2020-05-20 02:36:27</td>\n",
       "      <td>245</td>\n",
       "    </tr>\n",
       "    <tr>\n",
       "      <th>4</th>\n",
       "      <td>华东师范大学</td>\n",
       "      <td>保密</td>\n",
       "      <td>华东师范大学，魔都985双一流A类高校。人称“爱在华师大”，又名“华东吃饭大学”、“东中国正...</td>\n",
       "      <td>5</td>\n",
       "      <td>祝所有毕业生前程似锦，万事胜意❤</td>\n",
       "      <td>NaN</td>\n",
       "      <td>2020-05-20 01:39:18</td>\n",
       "      <td>244</td>\n",
       "    </tr>\n",
       "  </tbody>\n",
       "</table>\n",
       "</div>"
      ],
      "text/plain": [
       "  user_name sex                                               sign  \\\n",
       "0   巨星不易工作室  保密                                毛不易个人厂牌-巨星不易工作室官方账号   \n",
       "1   谜一样的剪辑师   男                           职业剪辑师，代表作：《啥是佩奇》《巴依尔的春节》   \n",
       "2   巨星不易工作室  保密                                毛不易个人厂牌-巨星不易工作室官方账号   \n",
       "3      同济大学  保密                                               同舟共济   \n",
       "4    华东师范大学  保密  华东师范大学，魔都985双一流A类高校。人称“爱在华师大”，又名“华东吃饭大学”、“东中国正...   \n",
       "\n",
       "   current_level                                            content device  \\\n",
       "0              2                                           祝大家毕业快乐。  phone   \n",
       "1              5  该片剪辑路过~这就是我最近在上海剪的MV短片《入海》，终于上线了哈哈，希望大家喜欢。近几天考...  phone   \n",
       "2              2                                  快乐的时光总是短暂，我们下次再见。  phone   \n",
       "3              4                      毕业快乐，祝大家前程似锦，母校永远在你身后[爱心][爱心]  phone   \n",
       "4              5                                   祝所有毕业生前程似锦，万事胜意❤    NaN   \n",
       "\n",
       "          content_time  reply_count  \n",
       "0  2020-05-20 04:07:44         1928  \n",
       "1  2020-05-20 01:27:22          395  \n",
       "2  2020-05-20 04:55:37          426  \n",
       "3  2020-05-20 02:36:27          245  \n",
       "4  2020-05-20 01:39:18          244  "
      ]
     },
     "execution_count": 7,
     "metadata": {},
     "output_type": "execute_result"
    }
   ],
   "source": [
    "# 定义转换时间\n",
    "def transform_timestamp(time_second):\n",
    "    timeArray = time.gmtime(time_second) \n",
    "    otherStyleTime = time.strftime('%Y-%m-%d %H:%M:%S', timeArray) \n",
    "    return otherStyleTime\n",
    "\n",
    "# 提取时间\n",
    "df['content_time'] = df['content_time'].apply(lambda x:transform_timestamp(x))\n",
    "df.head()"
   ]
  },
  {
   "cell_type": "markdown",
   "metadata": {},
   "source": [
    "## 数据可视化"
   ]
  },
  {
   "cell_type": "markdown",
   "metadata": {},
   "source": [
    "### 评论性别占比"
   ]
  },
  {
   "cell_type": "code",
   "execution_count": 8,
   "metadata": {},
   "outputs": [
    {
     "name": "stdout",
     "output_type": "stream",
     "text": [
      "男    4537\n",
      "女    3759\n",
      "Name: sex, dtype: int64\n"
     ]
    }
   ],
   "source": [
    "# 总体评分分布\n",
    "sex_num = df['sex'].value_counts()\n",
    "sex_num.drop('保密', inplace=True) \n",
    "print(sex_num) "
   ]
  },
  {
   "cell_type": "code",
   "execution_count": 9,
   "metadata": {},
   "outputs": [
    {
     "data": {
      "text/plain": [
       "'C:\\\\Users\\\\wzd\\\\Desktop\\\\CDA\\\\CDA_Learning\\\\Python\\\\Python项目实作\\\\网易云\\\\毛不易\\\\code\\\\render.html'"
      ]
     },
     "execution_count": 9,
     "metadata": {},
     "output_type": "execute_result"
    }
   ],
   "source": [
    "# 绘制饼图\n",
    "data_pair =  [list(z) for z in zip(sex_num.index.tolist(), sex_num.values.tolist())]\n",
    "\n",
    "# 绘制饼图\n",
    "pie1 = Pie(init_opts=opts.InitOpts(width='1350px', height='750px'))\n",
    "pie1.add('', data_pair, radius=['35%', '60%'])\n",
    "pie1.set_global_opts(title_opts=opts.TitleOpts(title='评论用户性别占比'), \n",
    "                     legend_opts=opts.LegendOpts(orient='vertical', pos_top='15%', pos_left='2%'))\n",
    "pie1.set_series_opts(label_opts=opts.LabelOpts(formatter=\"{b}:{d}%\"))\n",
    "pie1.set_colors(['#EF9050', '#3B7BA9', '#6FB27C'])\n",
    "pie1.render()"
   ]
  },
  {
   "cell_type": "markdown",
   "metadata": {},
   "source": [
    "### 客户端分布"
   ]
  },
  {
   "cell_type": "code",
   "execution_count": 10,
   "metadata": {},
   "outputs": [
    {
     "data": {
      "text/plain": [
       "unknown      57\n",
       "pad         453\n",
       "android     753\n",
       "phone      2896\n",
       "Name: device, dtype: int64"
      ]
     },
     "execution_count": 10,
     "metadata": {},
     "output_type": "execute_result"
    }
   ],
   "source": [
    "device_num = df.device.value_counts(ascending=True) \n",
    "device_num "
   ]
  },
  {
   "cell_type": "code",
   "execution_count": 11,
   "metadata": {},
   "outputs": [
    {
     "data": {
      "text/plain": [
       "'C:\\\\Users\\\\wzd\\\\Desktop\\\\CDA\\\\CDA_Learning\\\\Python\\\\Python项目实作\\\\网易云\\\\毛不易\\\\code\\\\render.html'"
      ]
     },
     "execution_count": 11,
     "metadata": {},
     "output_type": "execute_result"
    }
   ],
   "source": [
    "# 柱形图\n",
    "bar1 = Bar(init_opts=opts.InitOpts(width='1350px', height='750px'))\n",
    "bar1.add_xaxis(device_num.index.tolist())\n",
    "bar1.add_yaxis('', device_num.values.tolist(), \n",
    "               label_opts=opts.LabelOpts(position='right'))\n",
    "bar1.set_global_opts(title_opts=opts.TitleOpts(title='评论客户端分布'), \n",
    "                     visualmap_opts=opts.VisualMapOpts(max_=3000))\n",
    "bar1.reversal_axis()\n",
    "bar1.render() "
   ]
  },
  {
   "cell_type": "markdown",
   "metadata": {},
   "source": [
    "### 用户等级分布"
   ]
  },
  {
   "cell_type": "code",
   "execution_count": 12,
   "metadata": {},
   "outputs": [
    {
     "data": {
      "text/plain": [
       "5    6894\n",
       "4    5026\n",
       "3    3547\n",
       "2    3013\n",
       "6     619\n",
       "Name: current_level, dtype: int64"
      ]
     },
     "execution_count": 12,
     "metadata": {},
     "output_type": "execute_result"
    }
   ],
   "source": [
    "level_num = df.current_level.value_counts()\n",
    "level_num"
   ]
  },
  {
   "cell_type": "code",
   "execution_count": 13,
   "metadata": {},
   "outputs": [
    {
     "data": {
      "text/plain": [
       "'C:\\\\Users\\\\wzd\\\\Desktop\\\\CDA\\\\CDA_Learning\\\\Python\\\\Python项目实作\\\\网易云\\\\毛不易\\\\code\\\\render.html'"
      ]
     },
     "execution_count": 13,
     "metadata": {},
     "output_type": "execute_result"
    }
   ],
   "source": [
    "data_pair2 =  [list(z) for z in zip(['LV' + i for i in level_num.index.astype('str').tolist()] , level_num.values.tolist())]\n",
    "\n",
    "# 绘制饼图\n",
    "pie2 = Pie(init_opts=opts.InitOpts(width='1350px', height='750px'))\n",
    "pie2.add('', data_pair=data_pair2, radius=['35%', '60%'])\n",
    "pie2.set_global_opts(title_opts=opts.TitleOpts(title='评论用户等级分布'), \n",
    "                     legend_opts=opts.LegendOpts(orient='vertical', pos_top='15%', pos_left='2%'))\n",
    "pie2.set_series_opts(label_opts=opts.LabelOpts(formatter=\"{b}:{c}({d}%)\"))\n",
    "pie2.set_colors(['#EF9050', '#3B7BA9', '#6FB27C', '#FFAF34'])\n",
    "pie2.render()"
   ]
  },
  {
   "cell_type": "code",
   "execution_count": 14,
   "metadata": {},
   "outputs": [
    {
     "data": {
      "text/html": [
       "<div>\n",
       "<style scoped>\n",
       "    .dataframe tbody tr th:only-of-type {\n",
       "        vertical-align: middle;\n",
       "    }\n",
       "\n",
       "    .dataframe tbody tr th {\n",
       "        vertical-align: top;\n",
       "    }\n",
       "\n",
       "    .dataframe thead th {\n",
       "        text-align: right;\n",
       "    }\n",
       "</style>\n",
       "<table border=\"1\" class=\"dataframe\">\n",
       "  <thead>\n",
       "    <tr style=\"text-align: right;\">\n",
       "      <th></th>\n",
       "      <th>user_name</th>\n",
       "      <th>sex</th>\n",
       "      <th>sign</th>\n",
       "      <th>current_level</th>\n",
       "      <th>content</th>\n",
       "      <th>device</th>\n",
       "      <th>content_time</th>\n",
       "      <th>reply_count</th>\n",
       "    </tr>\n",
       "  </thead>\n",
       "  <tbody>\n",
       "    <tr>\n",
       "      <th>0</th>\n",
       "      <td>巨星不易工作室</td>\n",
       "      <td>保密</td>\n",
       "      <td>毛不易个人厂牌-巨星不易工作室官方账号</td>\n",
       "      <td>2</td>\n",
       "      <td>祝大家毕业快乐。</td>\n",
       "      <td>phone</td>\n",
       "      <td>2020-05-20 04:07:44</td>\n",
       "      <td>1928</td>\n",
       "    </tr>\n",
       "    <tr>\n",
       "      <th>1</th>\n",
       "      <td>谜一样的剪辑师</td>\n",
       "      <td>男</td>\n",
       "      <td>职业剪辑师，代表作：《啥是佩奇》《巴依尔的春节》</td>\n",
       "      <td>5</td>\n",
       "      <td>该片剪辑路过~这就是我最近在上海剪的MV短片《入海》，终于上线了哈哈，希望大家喜欢。近几天考...</td>\n",
       "      <td>phone</td>\n",
       "      <td>2020-05-20 01:27:22</td>\n",
       "      <td>395</td>\n",
       "    </tr>\n",
       "    <tr>\n",
       "      <th>2</th>\n",
       "      <td>巨星不易工作室</td>\n",
       "      <td>保密</td>\n",
       "      <td>毛不易个人厂牌-巨星不易工作室官方账号</td>\n",
       "      <td>2</td>\n",
       "      <td>快乐的时光总是短暂，我们下次再见。</td>\n",
       "      <td>phone</td>\n",
       "      <td>2020-05-20 04:55:37</td>\n",
       "      <td>426</td>\n",
       "    </tr>\n",
       "    <tr>\n",
       "      <th>3</th>\n",
       "      <td>同济大学</td>\n",
       "      <td>保密</td>\n",
       "      <td>同舟共济</td>\n",
       "      <td>4</td>\n",
       "      <td>毕业快乐，祝大家前程似锦，母校永远在你身后[爱心][爱心]</td>\n",
       "      <td>phone</td>\n",
       "      <td>2020-05-20 02:36:27</td>\n",
       "      <td>245</td>\n",
       "    </tr>\n",
       "    <tr>\n",
       "      <th>4</th>\n",
       "      <td>华东师范大学</td>\n",
       "      <td>保密</td>\n",
       "      <td>华东师范大学，魔都985双一流A类高校。人称“爱在华师大”，又名“华东吃饭大学”、“东中国正...</td>\n",
       "      <td>5</td>\n",
       "      <td>祝所有毕业生前程似锦，万事胜意❤</td>\n",
       "      <td>NaN</td>\n",
       "      <td>2020-05-20 01:39:18</td>\n",
       "      <td>244</td>\n",
       "    </tr>\n",
       "  </tbody>\n",
       "</table>\n",
       "</div>"
      ],
      "text/plain": [
       "  user_name sex                                               sign  \\\n",
       "0   巨星不易工作室  保密                                毛不易个人厂牌-巨星不易工作室官方账号   \n",
       "1   谜一样的剪辑师   男                           职业剪辑师，代表作：《啥是佩奇》《巴依尔的春节》   \n",
       "2   巨星不易工作室  保密                                毛不易个人厂牌-巨星不易工作室官方账号   \n",
       "3      同济大学  保密                                               同舟共济   \n",
       "4    华东师范大学  保密  华东师范大学，魔都985双一流A类高校。人称“爱在华师大”，又名“华东吃饭大学”、“东中国正...   \n",
       "\n",
       "   current_level                                            content device  \\\n",
       "0              2                                           祝大家毕业快乐。  phone   \n",
       "1              5  该片剪辑路过~这就是我最近在上海剪的MV短片《入海》，终于上线了哈哈，希望大家喜欢。近几天考...  phone   \n",
       "2              2                                  快乐的时光总是短暂，我们下次再见。  phone   \n",
       "3              4                      毕业快乐，祝大家前程似锦，母校永远在你身后[爱心][爱心]  phone   \n",
       "4              5                                   祝所有毕业生前程似锦，万事胜意❤    NaN   \n",
       "\n",
       "          content_time  reply_count  \n",
       "0  2020-05-20 04:07:44         1928  \n",
       "1  2020-05-20 01:27:22          395  \n",
       "2  2020-05-20 04:55:37          426  \n",
       "3  2020-05-20 02:36:27          245  \n",
       "4  2020-05-20 01:39:18          244  "
      ]
     },
     "execution_count": 14,
     "metadata": {},
     "output_type": "execute_result"
    }
   ],
   "source": [
    "df.head() "
   ]
  },
  {
   "cell_type": "markdown",
   "metadata": {},
   "source": [
    "## 评论时间走势图-小时"
   ]
  },
  {
   "cell_type": "code",
   "execution_count": 15,
   "metadata": {},
   "outputs": [
    {
     "data": {
      "text/html": [
       "<div>\n",
       "<style scoped>\n",
       "    .dataframe tbody tr th:only-of-type {\n",
       "        vertical-align: middle;\n",
       "    }\n",
       "\n",
       "    .dataframe tbody tr th {\n",
       "        vertical-align: top;\n",
       "    }\n",
       "\n",
       "    .dataframe thead th {\n",
       "        text-align: right;\n",
       "    }\n",
       "</style>\n",
       "<table border=\"1\" class=\"dataframe\">\n",
       "  <thead>\n",
       "    <tr style=\"text-align: right;\">\n",
       "      <th></th>\n",
       "      <th>user_name</th>\n",
       "      <th>sex</th>\n",
       "      <th>sign</th>\n",
       "      <th>current_level</th>\n",
       "      <th>content</th>\n",
       "      <th>device</th>\n",
       "      <th>content_time</th>\n",
       "      <th>reply_count</th>\n",
       "      <th>time</th>\n",
       "    </tr>\n",
       "  </thead>\n",
       "  <tbody>\n",
       "    <tr>\n",
       "      <th>0</th>\n",
       "      <td>巨星不易工作室</td>\n",
       "      <td>保密</td>\n",
       "      <td>毛不易个人厂牌-巨星不易工作室官方账号</td>\n",
       "      <td>2</td>\n",
       "      <td>祝大家毕业快乐。</td>\n",
       "      <td>phone</td>\n",
       "      <td>2020-05-20 04:07:44</td>\n",
       "      <td>1928</td>\n",
       "      <td>05-20 04:07:44</td>\n",
       "    </tr>\n",
       "    <tr>\n",
       "      <th>1</th>\n",
       "      <td>谜一样的剪辑师</td>\n",
       "      <td>男</td>\n",
       "      <td>职业剪辑师，代表作：《啥是佩奇》《巴依尔的春节》</td>\n",
       "      <td>5</td>\n",
       "      <td>该片剪辑路过~这就是我最近在上海剪的MV短片《入海》，终于上线了哈哈，希望大家喜欢。近几天考...</td>\n",
       "      <td>phone</td>\n",
       "      <td>2020-05-20 01:27:22</td>\n",
       "      <td>395</td>\n",
       "      <td>05-20 01:27:22</td>\n",
       "    </tr>\n",
       "  </tbody>\n",
       "</table>\n",
       "</div>"
      ],
      "text/plain": [
       "  user_name sex                      sign  current_level  \\\n",
       "0   巨星不易工作室  保密       毛不易个人厂牌-巨星不易工作室官方账号              2   \n",
       "1   谜一样的剪辑师   男  职业剪辑师，代表作：《啥是佩奇》《巴依尔的春节》              5   \n",
       "\n",
       "                                             content device  \\\n",
       "0                                           祝大家毕业快乐。  phone   \n",
       "1  该片剪辑路过~这就是我最近在上海剪的MV短片《入海》，终于上线了哈哈，希望大家喜欢。近几天考...  phone   \n",
       "\n",
       "          content_time  reply_count            time  \n",
       "0  2020-05-20 04:07:44         1928  05-20 04:07:44  \n",
       "1  2020-05-20 01:27:22          395  05-20 01:27:22  "
      ]
     },
     "execution_count": 15,
     "metadata": {},
     "output_type": "execute_result"
    }
   ],
   "source": [
    "df['time'] = df.content_time.str.split('-').str[1] + '-' + df.content_time.str.split('-').str[2]\n",
    "df.head(2) "
   ]
  },
  {
   "cell_type": "code",
   "execution_count": 16,
   "metadata": {},
   "outputs": [],
   "source": [
    "df['time'] = df.time.str.split(':').str[0]"
   ]
  },
  {
   "cell_type": "code",
   "execution_count": 17,
   "metadata": {},
   "outputs": [
    {
     "data": {
      "text/plain": [
       "05-20 00    1277\n",
       "05-20 01    1433\n",
       "05-20 02    1229\n",
       "05-20 03    1333\n",
       "05-20 04    2772\n",
       "Name: time, dtype: int64"
      ]
     },
     "execution_count": 17,
     "metadata": {},
     "output_type": "execute_result"
    }
   ],
   "source": [
    "time_num = df.time.value_counts().sort_index()\n",
    "time_num[:5]"
   ]
  },
  {
   "cell_type": "code",
   "execution_count": 18,
   "metadata": {},
   "outputs": [
    {
     "data": {
      "text/plain": [
       "'C:\\\\Users\\\\wzd\\\\Desktop\\\\CDA\\\\CDA_Learning\\\\Python\\\\Python项目实作\\\\网易云\\\\毛不易\\\\code\\\\render.html'"
      ]
     },
     "execution_count": 18,
     "metadata": {},
     "output_type": "execute_result"
    }
   ],
   "source": [
    "# 产生数据\n",
    "x1_line1 = time_num.index.values.astype('str').tolist()\n",
    "y1_line1 = time_num.values.tolist() \n",
    "\n",
    "# 绘制面积图\n",
    "line1 = Line(init_opts=opts.InitOpts(width='1350px', height='750px'))\n",
    "line1.add_xaxis(x1_line1)\n",
    "line1.add_yaxis('', y1_line1, areastyle_opts=opts.AreaStyleOpts(opacity=0.3),\n",
    "                markpoint_opts=opts.MarkPointOpts(data=[\n",
    "                    opts.MarkPointItem(type_='max', name='最大值')\n",
    "                ])) \n",
    "line1.set_global_opts(title_opts=opts.TitleOpts('各个时段评论人数'), \n",
    "                      xaxis_opts=opts.AxisOpts(axislabel_opts=opts.LabelOpts(rotate='30'))\n",
    "                     ) \n",
    "line1.set_series_opts(label_opts=opts.LabelOpts(is_show=False), \n",
    "                      axisline_opts=opts.AxisLineOpts()\n",
    "                     )\n",
    "line1.render()"
   ]
  },
  {
   "cell_type": "markdown",
   "metadata": {},
   "source": [
    "### 评论高频词"
   ]
  },
  {
   "cell_type": "markdown",
   "metadata": {},
   "source": [
    "### 评论词云图"
   ]
  },
  {
   "cell_type": "code",
   "execution_count": 19,
   "metadata": {},
   "outputs": [],
   "source": [
    "# 整体内容分析\n",
    "def get_top_words(txt):\n",
    "    # 读入停用词表\n",
    "    stop_words = [] \n",
    "    \n",
    "    with open(r\"C:\\Users\\wzd\\Desktop\\CDA\\CDA_Learning\\Python\\Python项目实作\\steam\\stop_words.txt\", 'r', encoding='utf-8') as f:\n",
    "        lines = f.readlines()\n",
    "        for line in lines:\n",
    "            stop_words.append(line.strip())\n",
    "    \n",
    "    # 添加关键词\n",
    "    my_words = ['毛不易', '跃入人海', '步入人海', '打call']\n",
    "    \n",
    "    for i in my_words:\n",
    "        jieba.add_word(i) \n",
    "\n",
    "    # 添加停用词\n",
    "    stop_words.extend(['毛毛', '不易', '毛不易', '啊啊啊', '真的', '首歌', '老师', '毛老师',\n",
    "                      '\\n\\n', 'doge', '哈哈哈', '一首', 'tv', 'MV', 'mv', '跃入', '人海'])               \n",
    "\n",
    "    # 评论字段分词处理\n",
    "    word_num = jieba.lcut(txt, cut_all=True)\n",
    "    \n",
    "    # 筛选词\n",
    "    word_num_selected = []\n",
    "    \n",
    "    for i in word_num:\n",
    "        if i not in stop_words and len(i)>=2:\n",
    "            word_num_selected.append(i)\n",
    "\n",
    "     # 计数    \n",
    "    key_words = pd.Series(Counter(word_num_selected))\n",
    "    return key_words"
   ]
  },
  {
   "cell_type": "code",
   "execution_count": 20,
   "metadata": {},
   "outputs": [
    {
     "name": "stderr",
     "output_type": "stream",
     "text": [
      "Building prefix dict from the default dictionary ...\n",
      "Loading model from cache C:\\Users\\wzd\\AppData\\Local\\Temp\\jieba.cache\n",
      "Loading model cost 1.573 seconds.\n",
      "Prefix dict has been built successfully.\n"
     ]
    },
    {
     "data": {
      "text/plain": [
       "毕业    6988\n",
       "后浪    2293\n",
       "快乐    1941\n",
       "入海    1804\n",
       "大哭    1512\n",
       "dtype: int64"
      ]
     },
     "execution_count": 20,
     "metadata": {},
     "output_type": "execute_result"
    }
   ],
   "source": [
    "txt1 = df['content'].str.cat(sep='。')\n",
    "\n",
    "key_words = get_top_words(txt1)\n",
    "key_words = key_words.sort_values(ascending=False)\n",
    "key_words.head() "
   ]
  },
  {
   "cell_type": "code",
   "execution_count": 22,
   "metadata": {},
   "outputs": [
    {
     "data": {
      "text/plain": [
       "'C:\\\\Users\\\\wzd\\\\Desktop\\\\CDA\\\\CDA_Learning\\\\Python\\\\Python项目实作\\\\网易云\\\\毛不易\\\\code\\\\render.html'"
      ]
     },
     "execution_count": 22,
     "metadata": {},
     "output_type": "execute_result"
    }
   ],
   "source": [
    "top15 = key_words.head(15) \n",
    "\n",
    "bar2 = Bar(init_opts=opts.InitOpts(width='1350px', height='750px'))\n",
    "bar2.add_xaxis(top15.index.tolist())\n",
    "bar2.add_yaxis(\"\", top15.values.tolist(), category_gap='5%')\n",
    "bar2.set_global_opts(title_opts=opts.TitleOpts(title=\"评论关键词Top15\"), \n",
    "                     visualmap_opts=opts.VisualMapOpts(max_=5000)\n",
    "                    )\n",
    "bar2.render() "
   ]
  },
  {
   "cell_type": "code",
   "execution_count": 23,
   "metadata": {},
   "outputs": [
    {
     "data": {
      "text/plain": [
       "'C:\\\\Users\\\\wzd\\\\Desktop\\\\CDA\\\\CDA_Learning\\\\Python\\\\Python项目实作\\\\网易云\\\\毛不易\\\\code\\\\render.html'"
      ]
     },
     "execution_count": 23,
     "metadata": {},
     "output_type": "execute_result"
    }
   ],
   "source": [
    "word1 = WordCloud(init_opts=opts.InitOpts(width='1350px', height='750px'))\n",
    "word1.add(\"\", [*zip(key_words[:100].index.tolist(), key_words[:100].values.tolist())],\n",
    "          word_size_range=[20, 100],\n",
    "          shape=SymbolType.DIAMOND) \n",
    "word1.set_global_opts(title_opts=opts.TitleOpts('评论词云图'))\n",
    "word1.render() "
   ]
  },
  {
   "cell_type": "code",
   "execution_count": 24,
   "metadata": {},
   "outputs": [
    {
     "data": {
      "text/plain": [
       "'C:\\\\Users\\\\wzd\\\\Desktop\\\\CDA\\\\CDA_Learning\\\\Python\\\\Python项目实作\\\\网易云\\\\毛不易\\\\code\\\\入海B站数据分析.html'"
      ]
     },
     "execution_count": 24,
     "metadata": {},
     "output_type": "execute_result"
    }
   ],
   "source": [
    "page = Page()\n",
    "page.add(pie1, bar1, pie2, line1, bar2, word1)\n",
    "page.render('入海B站数据分析.html')"
   ]
  },
  {
   "cell_type": "code",
   "execution_count": 52,
   "metadata": {},
   "outputs": [
    {
     "data": {
      "text/plain": [
       "['毕业', '快乐', '该片', '剪辑', '路过']"
      ]
     },
     "execution_count": 52,
     "metadata": {},
     "output_type": "execute_result"
    }
   ],
   "source": [
    "# 读入停用词表\n",
    "stop_words = [] \n",
    "\n",
    "with open(r\"C:\\Users\\wzd\\Desktop\\CDA\\CDA_Learning\\Python\\Python项目实作\\steam\\stop_words.txt\", 'r', encoding='utf-8') as f:\n",
    "    lines = f.readlines()\n",
    "    for line in lines:\n",
    "        stop_words.append(line.strip())\n",
    "\n",
    "# 添加关键词\n",
    "my_words = ['毛不易', '跃入人海', '步入人海', '打call', '前程似锦', 'bilibili']\n",
    "\n",
    "for i in my_words:\n",
    "    jieba.add_word(i) \n",
    "\n",
    "# 添加停用词\n",
    "stop_words.extend(['毛毛', '不易', '毛不易', '啊啊啊', '真的', '首歌', '老师', '毛老师',\n",
    "                  '\\n\\n', 'doge', '哈哈哈', '一首', 'tv', 'MV', 'mv', '跃入', '人海',\n",
    "                   '业生', '生前', '前程', '似锦', '一朵','一站'\n",
    "                  ])               \n",
    "\n",
    "# 评论字段分词处理\n",
    "word_num = jieba.lcut(df['content'].str.cat(sep='。'), cut_all=True)\n",
    "\n",
    "# 筛选词\n",
    "word_num_selected = []\n",
    "\n",
    "for i in word_num:\n",
    "    if i not in stop_words and len(i)>=2:\n",
    "        word_num_selected.append(i)\n",
    "        \n",
    "word_num_selected[:5]"
   ]
  },
  {
   "cell_type": "code",
   "execution_count": 53,
   "metadata": {},
   "outputs": [
    {
     "data": {
      "text/plain": [
       "['毕业', '快乐', '该片', '剪辑', '路过']"
      ]
     },
     "execution_count": 53,
     "metadata": {},
     "output_type": "execute_result"
    }
   ],
   "source": [
    "# 修饰\n",
    "word_num_selected = [i.strip() for i in word_num_selected]\n",
    "word_num_selected[:5] "
   ]
  },
  {
   "cell_type": "code",
   "execution_count": 1,
   "metadata": {},
   "outputs": [
    {
     "ename": "NameError",
     "evalue": "name 'word_num_selected' is not defined",
     "output_type": "error",
     "traceback": [
      "\u001b[1;31m---------------------------------------------------------------------------\u001b[0m",
      "\u001b[1;31mNameError\u001b[0m                                 Traceback (most recent call last)",
      "\u001b[1;32m<ipython-input-1-2e2921539b8e>\u001b[0m in \u001b[0;36m<module>\u001b[1;34m()\u001b[0m\n\u001b[0;32m      2\u001b[0m \u001b[1;32mfrom\u001b[0m \u001b[0mIPython\u001b[0m\u001b[1;33m.\u001b[0m\u001b[0mdisplay\u001b[0m \u001b[1;32mimport\u001b[0m \u001b[0mImage\u001b[0m \u001b[1;31m# 用于在jupyter lab中显示本地图片\u001b[0m\u001b[1;33m\u001b[0m\u001b[0m\n\u001b[0;32m      3\u001b[0m \u001b[1;33m\u001b[0m\u001b[0m\n\u001b[1;32m----> 4\u001b[1;33m stylecloud.gen_stylecloud(text=' '.join(word_num_selected[:500]), \n\u001b[0m\u001b[0;32m      5\u001b[0m                           \u001b[0mcollocations\u001b[0m\u001b[1;33m=\u001b[0m\u001b[1;32mFalse\u001b[0m\u001b[1;33m,\u001b[0m\u001b[1;33m\u001b[0m\u001b[0m\n\u001b[0;32m      6\u001b[0m                           \u001b[0mfont_path\u001b[0m\u001b[1;33m=\u001b[0m\u001b[1;34mr'‪C:\\Windows\\Fonts\\msyh.ttc'\u001b[0m\u001b[1;33m,\u001b[0m\u001b[1;33m\u001b[0m\u001b[0m\n",
      "\u001b[1;31mNameError\u001b[0m: name 'word_num_selected' is not defined"
     ]
    }
   ],
   "source": [
    "import stylecloud\n",
    "from IPython.display import Image # 用于在jupyter lab中显示本地图片\n",
    "\n",
    "stylecloud.gen_stylecloud(text=' '.join(word_num_selected[:500]), \n",
    "                          collocations=False,\n",
    "                          font_path=r'‪C:\\Windows\\Fonts\\msyh.ttc',\n",
    "                          icon_name='fas fa-graduation-cap',\n",
    "                          size=768,\n",
    "                          output_name='B站评论词云图.png')\n",
    "Image(filename='B站评论词云图.png') "
   ]
  },
  {
   "cell_type": "code",
   "execution_count": null,
   "metadata": {},
   "outputs": [],
   "source": []
  }
 ],
 "metadata": {
  "kernelspec": {
   "display_name": "Python 3",
   "language": "python",
   "name": "python3"
  },
  "language_info": {
   "codemirror_mode": {
    "name": "ipython",
    "version": 3
   },
   "file_extension": ".py",
   "mimetype": "text/x-python",
   "name": "python",
   "nbconvert_exporter": "python",
   "pygments_lexer": "ipython3",
   "version": "3.7.0"
  },
  "toc": {
   "base_numbering": 1,
   "nav_menu": {},
   "number_sections": true,
   "sideBar": true,
   "skip_h1_title": false,
   "title_cell": "Table of Contents",
   "title_sidebar": "Contents",
   "toc_cell": false,
   "toc_position": {},
   "toc_section_display": true,
   "toc_window_display": false
  },
  "varInspector": {
   "cols": {
    "lenName": 16,
    "lenType": 16,
    "lenVar": 40
   },
   "kernels_config": {
    "python": {
     "delete_cmd_postfix": "",
     "delete_cmd_prefix": "del ",
     "library": "var_list.py",
     "varRefreshCmd": "print(var_dic_list())"
    },
    "r": {
     "delete_cmd_postfix": ") ",
     "delete_cmd_prefix": "rm(",
     "library": "var_list.r",
     "varRefreshCmd": "cat(var_dic_list()) "
    }
   },
   "types_to_exclude": [
    "module",
    "function",
    "builtin_function_or_method",
    "instance",
    "_Feature"
   ],
   "window_display": false
  }
 },
 "nbformat": 4,
 "nbformat_minor": 2
}
